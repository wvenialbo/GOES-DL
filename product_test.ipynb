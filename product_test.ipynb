{
 "cells": [
  {
   "cell_type": "markdown",
   "id": "40bd2921-2af9-41f3-b37f-a9e84a3b3b3f",
   "metadata": {},
   "source": [
    "# GOES-DL Testing"
   ]
  },
  {
   "cell_type": "markdown",
   "id": "05114504-759e-4c26-b693-d2ef35381cc6",
   "metadata": {},
   "source": [
    "## Raw testing"
   ]
  },
  {
   "cell_type": "markdown",
   "id": "45c746cc-5cc5-4060-aed0-1b54cdb240f0",
   "metadata": {},
   "source": [
    "### GridSat basic product utility testing"
   ]
  },
  {
   "cell_type": "code",
   "execution_count": 1,
   "id": "177870c3-f403-48a3-8181-2329438c1725",
   "metadata": {},
   "outputs": [
    {
     "name": "stdout",
     "output_type": "stream",
     "text": [
      "GridSatProduct(name='B1', origin=[], version=['v02r01'], date_format='%Y.%m.%d.%H', date_pattern='\\\\d{4}\\\\.\\\\d{2}\\\\.\\\\d{2}\\\\.\\\\d{2}', file_prefix='GRIDSAT')\n",
      "True\n",
      "1980-01-01 00:00:00+00:00\n",
      "True\n",
      "2023-09-30 17:00:00-04:00\n"
     ]
    }
   ],
   "source": [
    "from GOES_DL.dataset.gridsat.product_b1 import GridSatProduct\n",
    "\n",
    "FILENAME_1: str = \"GRIDSAT-B1.1980.01.01.00.v02r01.nc\"\n",
    "FILENAME_2: str = \"GRIDSAT-B1.2023.09.30.21.v02r01.nc\"\n",
    "product: GridSatProduct = GridSatProduct(\n",
    "    name=\"B1\",\n",
    "    origin=[],\n",
    "    version=[\"v02r01\"],\n",
    "    file_prefix=\"GRIDSAT\",\n",
    "    date_format=\"%Y.%m.%d.%H\",\n",
    "    date_pattern=r\"\\d{4}\\.\\d{2}\\.\\d{2}\\.\\d{2}\",\n",
    ")\n",
    "print(product)\n",
    "print(product.match(FILENAME_1))\n",
    "print(product.get_datetime(FILENAME_1))\n",
    "print(product.match(FILENAME_2))\n",
    "print(product.get_datetime(FILENAME_2).astimezone())\n"
   ]
  },
  {
   "cell_type": "markdown",
   "id": "c4aa36d1-fbca-45ad-b059-da8bf4f4ff35",
   "metadata": {},
   "source": [
    "### GridSat-B1 basic product utility testing\n"
   ]
  },
  {
   "cell_type": "code",
   "execution_count": 2,
   "id": "3f0e33e1-d1fb-444c-8575-24ce140aa286",
   "metadata": {},
   "outputs": [
    {
     "name": "stdout",
     "output_type": "stream",
     "text": [
      "GridSatProductB1(name='B1', origin=[], version=['v02r01'], date_format='%Y.%m.%d.%H', date_pattern='\\\\d{4}\\\\.\\\\d{2}\\\\.\\\\d{2}\\\\.\\\\d{2}', file_prefix='GRIDSAT')\n",
      "True\n",
      "1980-01-01 00:00:00+00:00\n",
      "True\n",
      "2023-09-30 17:00:00-04:00\n"
     ]
    }
   ],
   "source": [
    "from GOES_DL.dataset.gridsat.product_b1 import GridSatProductB1\n",
    "\n",
    "FILENAME_1: str = \"GRIDSAT-B1.1980.01.01.00.v02r01.nc\"\n",
    "FILENAME_2: str = \"GRIDSAT-B1.2023.09.30.21.v02r01.nc\"\n",
    "product: GridSatProductB1 = GridSatProductB1(version=\"v02r01\")\n",
    "print(product)\n",
    "print(product.match(FILENAME_1))\n",
    "print(product.get_datetime(FILENAME_1))\n",
    "print(product.match(FILENAME_2))\n",
    "print(product.get_datetime(FILENAME_2).astimezone())\n"
   ]
  },
  {
   "cell_type": "markdown",
   "id": "3330f6f1-b49f-4912-a4eb-34f84f3ca1ea",
   "metadata": {},
   "source": [
    "### GridSat-GOES/CONUS basic product utility testing"
   ]
  },
  {
   "cell_type": "code",
   "execution_count": 4,
   "id": "681c691a-3129-484e-ad79-635ba6455452",
   "metadata": {},
   "outputs": [
    {
     "name": "stdout",
     "output_type": "stream",
     "text": [
      "GridSatProductGC(name='GOES', origin=['goes12'], version=['v01'], date_format='%Y.%m.%d.%H%M', date_pattern='\\\\d{4}\\\\.\\\\d{2}\\\\.\\\\d{2}\\\\.\\\\d{4}', file_prefix='GridSat')\n",
      "False\n",
      "False\n",
      "True\n",
      "1994-09-01 00:00:00+00:00\n",
      "2017-12-31 20:30:00-03:00\n"
     ]
    }
   ],
   "source": [
    "from GOES_DL.dataset.gridsat.product_gc import GridSatProductGC\n",
    "\n",
    "FILENAME_1: str = \"GridSat-GOES.goes12.1994.09.01.0000.v01.nc\"\n",
    "FILENAME_2: str = \"GridSat-GOES.goes12.2017.12.31.2330.v01.nc\"\n",
    "product: GridSatProductGC = GridSatProductGC(\"F\", \"G12\")\n",
    "print(product)\n",
    "print(FILENAME_2.startswith(product.get_prefix()))\n",
    "print(FILENAME_2.endswith(product.get_suffix()))\n",
    "print(product.match(FILENAME_1))\n",
    "print(product.get_datetime(FILENAME_1))\n",
    "print(product.get_datetime(FILENAME_2).astimezone())\n"
   ]
  },
  {
   "cell_type": "markdown",
   "id": "fe0cc47f-967d-4722-a25f-5a99d2c8af63",
   "metadata": {},
   "source": [
    "# GOES Product testing "
   ]
  },
  {
   "cell_type": "markdown",
   "id": "fdc256da-44ed-4ebb-8b64-48d28c3b9512",
   "metadata": {},
   "source": [
    "## GOES 2nd Generation (GOES-I to GOES-M Series)"
   ]
  },
  {
   "cell_type": "code",
   "execution_count": 1,
   "id": "97f14eda-03a9-44a6-9940-027fe359fdc4",
   "metadata": {},
   "outputs": [],
   "source": [
    "from GOES_DL.product import GOES2GImagerProduct"
   ]
  },
  {
   "cell_type": "code",
   "execution_count": 2,
   "id": "cc53daff-3d2a-4689-b2c3-36b3f9dd1294",
   "metadata": {},
   "outputs": [],
   "source": [
    "product = GOES2GImagerProduct(\"F\", \"G13\", \"v01\")"
   ]
  },
  {
   "cell_type": "code",
   "execution_count": 3,
   "id": "2fd8639e-5eda-42b0-9b62-9c7ea515a5ae",
   "metadata": {},
   "outputs": [
    {
     "name": "stdout",
     "output_type": "stream",
     "text": [
      "<GOES_DL.product.sg_imager_product.GOES2GImagerProduct(origin_id='G13',product_id='MCMIP',scene_id='F',version='v01') at 0x1fc92773210>\n"
     ]
    }
   ],
   "source": [
    "print(repr(product))"
   ]
  },
  {
   "cell_type": "code",
   "execution_count": 4,
   "id": "ed96107a-af2e-4186-91c6-5012d0ca2ab6",
   "metadata": {},
   "outputs": [
    {
     "name": "stdout",
     "output_type": "stream",
     "text": [
      "Invalid origin_id: 'G20'. Available origin IDs: ['G08', 'G09', 'G10', 'G11', 'G12', 'G13', 'G14', 'G15']\n"
     ]
    }
   ],
   "source": [
    "try:\n",
    "    product = GOES2GImagerProduct(\"F\", \"G20\", \"v01\")\n",
    "except ValueError as ex:\n",
    "    print(ex)"
   ]
  },
  {
   "cell_type": "code",
   "execution_count": 5,
   "id": "9a2668ef-c8de-4010-b6ea-509d4234e716",
   "metadata": {},
   "outputs": [
    {
     "name": "stdout",
     "output_type": "stream",
     "text": [
      "Invalid scene_id: M1. Available scene IDs: ['C', 'F']\n"
     ]
    }
   ],
   "source": [
    "try:\n",
    "    product = GOES2GImagerProduct(\"M1\", \"G13\", \"v01\")\n",
    "except ValueError as ex:\n",
    "    print(ex)"
   ]
  },
  {
   "cell_type": "code",
   "execution_count": 6,
   "id": "10c7191c-639a-489b-8e31-545cc3c2cffb",
   "metadata": {},
   "outputs": [
    {
     "name": "stdout",
     "output_type": "stream",
     "text": [
      "Unsupported version: v02. Supported versions: ['v01']\n"
     ]
    }
   ],
   "source": [
    "try:\n",
    "    product = GOES2GImagerProduct(\"C\", \"G13\", \"v02\")\n",
    "except ValueError as ex:\n",
    "    print(ex)"
   ]
  },
  {
   "cell_type": "code",
   "execution_count": 7,
   "id": "092e9007-9dce-4c6a-8a27-337bc0dfaeb3",
   "metadata": {},
   "outputs": [
    {
     "name": "stdout",
     "output_type": "stream",
     "text": [
      "GOES2GImagerProduct:\n",
      "  Origin ID  : 'G13'\n",
      "  Product ID : 'MCMIP'\n",
      "  Scene ID   : 'F'\n",
      "  Version    : 'v01'\n"
     ]
    }
   ],
   "source": [
    "print(str(product))"
   ]
  },
  {
   "cell_type": "code",
   "execution_count": 8,
   "id": "085e2aa6-435a-4ae0-ad67-c5c6324f7d43",
   "metadata": {},
   "outputs": [
    {
     "name": "stdout",
     "output_type": "stream",
     "text": [
      "GOES2GImagerProduct:\n",
      "  Origin ID  : 'G13'\n",
      "  Product ID : 'MCMIP'\n",
      "  Scene ID   : 'F'\n",
      "  Version    : 'v01'\n"
     ]
    }
   ],
   "source": [
    "print(product)"
   ]
  },
  {
   "cell_type": "code",
   "execution_count": 9,
   "id": "b2bcbf25-e538-4c16-bcb6-e61f38af970f",
   "metadata": {},
   "outputs": [
    {
     "name": "stdout",
     "output_type": "stream",
     "text": [
      "G13, MCMIP, F, v01\n",
      "GOES2GImagerProduct:\n",
      "  Origin ID  : 'G13'\n",
      "  Product ID : 'MCMIP'\n",
      "  Scene ID   : 'F'\n",
      "  Version    : 'v01'\n"
     ]
    }
   ],
   "source": [
    "print(f\"{product:origin}, {product:product}, {product:scene}, {product:version}\\n{product}\")"
   ]
  },
  {
   "cell_type": "code",
   "execution_count": 10,
   "id": "bf1fa549-fabf-44f2-a7ff-b1983af79c15",
   "metadata": {},
   "outputs": [
    {
     "name": "stdout",
     "output_type": "stream",
     "text": [
      "Invalid format specifier: 'satellite'. Available format specifiers: ['origin', 'product', 'scene', 'version']\n"
     ]
    }
   ],
   "source": [
    "try:\n",
    "    print(f\"{product:satellite}\")\n",
    "except ValueError as ex:\n",
    "    print(ex)"
   ]
  },
  {
   "cell_type": "code",
   "execution_count": 11,
   "id": "c847a514-cf9c-42ec-b9c7-ef5f66cb14e9",
   "metadata": {},
   "outputs": [
    {
     "name": "stdout",
     "output_type": "stream",
     "text": [
      "Help on GOES2GImagerProduct in module GOES_DL.product.sg_imager_product object:\n",
      "\n",
      "class GOES2GImagerProduct(GOES_DL.product.sg_product.GOES2GProduct)\n",
      " |  GOES2GImagerProduct(scene_id: str = 'F', origin_id: str = 'G08', version: str = 'v01') -> None\n",
      " |  \n",
      " |  Method resolution order:\n",
      " |      GOES2GImagerProduct\n",
      " |      GOES_DL.product.sg_product.GOES2GProduct\n",
      " |      GOES_DL.product.product.GOESProduct\n",
      " |      abc.ABC\n",
      " |      builtins.object\n",
      " |  \n",
      " |  Methods defined here:\n",
      " |  \n",
      " |  __format__(self, format_spec: str) -> str\n",
      " |      Default object formatter.\n",
      " |  \n",
      " |  __init__(self, scene_id: str = 'F', origin_id: str = 'G08', version: str = 'v01') -> None\n",
      " |      Initialize self.  See help(type(self)) for accurate signature.\n",
      " |  \n",
      " |  get_baseurl(self, timestamp: str) -> str\n",
      " |  \n",
      " |  get_filename(self, timestamp: str) -> str\n",
      " |  \n",
      " |  ----------------------------------------------------------------------\n",
      " |  Readonly properties defined here:\n",
      " |  \n",
      " |  scene_id\n",
      " |  \n",
      " |  version\n",
      " |  \n",
      " |  ----------------------------------------------------------------------\n",
      " |  Data and other attributes defined here:\n",
      " |  \n",
      " |  AVAILABLE_PRODUCT = {'MCMIP': 'Multi-band Cloud and Moisture Imagery'}\n",
      " |  \n",
      " |  AVAILABLE_SCENE = {'C': 'CONUS (Contiguous United States)', 'F': 'Full...\n",
      " |  \n",
      " |  AVAILABLE_VERSION = {'v01'}\n",
      " |  \n",
      " |  SCENE_MAPPING = {'C': 'CONUS', 'F': 'GOES'}\n",
      " |  \n",
      " |  __abstractmethods__ = frozenset()\n",
      " |  \n",
      " |  __annotations__ = {'AVAILABLE_PRODUCT': dict[str, str], 'AVAILABLE_SCE...\n",
      " |  \n",
      " |  ----------------------------------------------------------------------\n",
      " |  Data and other attributes inherited from GOES_DL.product.sg_product.GOES2GProduct:\n",
      " |  \n",
      " |  AVAILABLE_ORIGIN = {'G08': 'GOES08', 'G09': 'GOES09', 'G10': 'GOES10',...\n",
      " |  \n",
      " |  ----------------------------------------------------------------------\n",
      " |  Methods inherited from GOES_DL.product.product.GOESProduct:\n",
      " |  \n",
      " |  __repr__(self) -> str\n",
      " |      Return repr(self).\n",
      " |  \n",
      " |  __str__(self) -> str\n",
      " |      Return str(self).\n",
      " |  \n",
      " |  ----------------------------------------------------------------------\n",
      " |  Readonly properties inherited from GOES_DL.product.product.GOESProduct:\n",
      " |  \n",
      " |  origin_id\n",
      " |  \n",
      " |  product_id\n",
      " |  \n",
      " |  ----------------------------------------------------------------------\n",
      " |  Data descriptors inherited from GOES_DL.product.product.GOESProduct:\n",
      " |  \n",
      " |  __dict__\n",
      " |      dictionary for instance variables (if defined)\n",
      " |  \n",
      " |  __weakref__\n",
      " |      list of weak references to the object (if defined)\n",
      "\n"
     ]
    }
   ],
   "source": [
    "help(product)"
   ]
  }
 ],
 "metadata": {
  "kernelspec": {
   "display_name": "Python 3 (ipykernel)",
   "language": "python",
   "name": "python3"
  },
  "language_info": {
   "codemirror_mode": {
    "name": "ipython",
    "version": 3
   },
   "file_extension": ".py",
   "mimetype": "text/x-python",
   "name": "python",
   "nbconvert_exporter": "python",
   "pygments_lexer": "ipython3",
   "version": "3.11.4"
  }
 },
 "nbformat": 4,
 "nbformat_minor": 5
}
