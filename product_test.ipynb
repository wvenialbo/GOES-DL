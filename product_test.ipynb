{
 "cells": [
  {
   "cell_type": "markdown",
   "id": "fe0cc47f-967d-4722-a25f-5a99d2c8af63",
   "metadata": {},
   "source": [
    "# GOES Product testing "
   ]
  },
  {
   "cell_type": "markdown",
   "id": "fdc256da-44ed-4ebb-8b64-48d28c3b9512",
   "metadata": {},
   "source": [
    "## GOES 2nd Generation (GOES-I to GOES-M Series)"
   ]
  },
  {
   "cell_type": "code",
   "execution_count": 1,
   "id": "97f14eda-03a9-44a6-9940-027fe359fdc4",
   "metadata": {},
   "outputs": [],
   "source": [
    "from GOES_DL.product import GOES2GImagerProduct"
   ]
  },
  {
   "cell_type": "code",
   "execution_count": 2,
   "id": "cc53daff-3d2a-4689-b2c3-36b3f9dd1294",
   "metadata": {},
   "outputs": [],
   "source": [
    "product = GOES2GImagerProduct(\"G13\", \"F\", \"1\")"
   ]
  },
  {
   "cell_type": "code",
   "execution_count": 3,
   "id": "2fd8639e-5eda-42b0-9b62-9c7ea515a5ae",
   "metadata": {},
   "outputs": [
    {
     "name": "stdout",
     "output_type": "stream",
     "text": [
      "<GOES_DL.product.sg_imager_product.GOES2GImagerProduct(product_id='MCMIP',origin_id='G13',scene_id='F',version='1') at 0x1f548d89010>\n"
     ]
    }
   ],
   "source": [
    "print(repr(product))"
   ]
  },
  {
   "cell_type": "code",
   "execution_count": 4,
   "id": "ed96107a-af2e-4186-91c6-5012d0ca2ab6",
   "metadata": {},
   "outputs": [
    {
     "name": "stdout",
     "output_type": "stream",
     "text": [
      "Invalid origin_id: 'G20'. Available origin IDs: ['G08', 'G09', 'G10', 'G11', 'G12', 'G13', 'G14', 'G15']\n"
     ]
    }
   ],
   "source": [
    "try:\n",
    "    product = GOES2GImagerProduct(\"G20\", \"F\", \"1\")\n",
    "except ValueError as ex:\n",
    "    print(ex)"
   ]
  },
  {
   "cell_type": "code",
   "execution_count": 5,
   "id": "9a2668ef-c8de-4010-b6ea-509d4234e716",
   "metadata": {},
   "outputs": [
    {
     "name": "stdout",
     "output_type": "stream",
     "text": [
      "Invalid scene_id: M1. Available scene IDs: ['C', 'F']\n"
     ]
    }
   ],
   "source": [
    "try:\n",
    "    product = GOES2GImagerProduct(\"G13\", \"M1\", \"1\")\n",
    "except ValueError as ex:\n",
    "    print(ex)"
   ]
  },
  {
   "cell_type": "code",
   "execution_count": 6,
   "id": "10c7191c-639a-489b-8e31-545cc3c2cffb",
   "metadata": {},
   "outputs": [
    {
     "name": "stdout",
     "output_type": "stream",
     "text": [
      "Unsupported version: 2. Supported versions: ['1']\n"
     ]
    }
   ],
   "source": [
    "try:\n",
    "    product = GOES2GImagerProduct(\"G13\", \"C\", \"2\")\n",
    "except ValueError as ex:\n",
    "    print(ex)"
   ]
  },
  {
   "cell_type": "code",
   "execution_count": 7,
   "id": "092e9007-9dce-4c6a-8a27-337bc0dfaeb3",
   "metadata": {},
   "outputs": [
    {
     "name": "stdout",
     "output_type": "stream",
     "text": [
      "GOES2GImagerProduct:\n",
      "  Product ID : 'MCMIP'\n",
      "  Origin ID  : 'G13'\n",
      "  Scene ID   : 'F'\n",
      "  Version    : 'v01'\n"
     ]
    }
   ],
   "source": [
    "print(str(product))"
   ]
  },
  {
   "cell_type": "code",
   "execution_count": 8,
   "id": "085e2aa6-435a-4ae0-ad67-c5c6324f7d43",
   "metadata": {},
   "outputs": [
    {
     "name": "stdout",
     "output_type": "stream",
     "text": [
      "GOES2GImagerProduct:\n",
      "  Product ID : 'MCMIP'\n",
      "  Origin ID  : 'G13'\n",
      "  Scene ID   : 'F'\n",
      "  Version    : 'v01'\n"
     ]
    }
   ],
   "source": [
    "print(product)"
   ]
  },
  {
   "cell_type": "code",
   "execution_count": 9,
   "id": "b2bcbf25-e538-4c16-bcb6-e61f38af970f",
   "metadata": {},
   "outputs": [
    {
     "name": "stdout",
     "output_type": "stream",
     "text": [
      "G13, MCMIP, F, 1\n",
      "GOES2GImagerProduct:\n",
      "  Product ID : 'MCMIP'\n",
      "  Origin ID  : 'G13'\n",
      "  Scene ID   : 'F'\n",
      "  Version    : 'v01'\n"
     ]
    }
   ],
   "source": [
    "print(f\"{product:origin}, {product:product}, {product:scene}, {product:version}\\n{product}\")"
   ]
  },
  {
   "cell_type": "code",
   "execution_count": 10,
   "id": "bf1fa549-fabf-44f2-a7ff-b1983af79c15",
   "metadata": {},
   "outputs": [
    {
     "name": "stdout",
     "output_type": "stream",
     "text": [
      "Invalid format specifier: 'satellite'. Available format specifiers: ['origin', 'product', 'scene', 'version']\n"
     ]
    }
   ],
   "source": [
    "try:\n",
    "    print(f\"{product:satellite}\")\n",
    "except ValueError as ex:\n",
    "    print(ex)"
   ]
  },
  {
   "cell_type": "code",
   "execution_count": 11,
   "id": "c847a514-cf9c-42ec-b9c7-ef5f66cb14e9",
   "metadata": {},
   "outputs": [
    {
     "name": "stdout",
     "output_type": "stream",
     "text": [
      "Help on GOES2GImagerProduct in module GOES_DL.product.sg_imager_product object:\n",
      "\n",
      "class GOES2GImagerProduct(GOES_DL.product.sg_product.GOES2GProduct)\n",
      " |  GOES2GImagerProduct(origin_id: str, scene_id: str = 'F', version: str = '1') -> None\n",
      " |  \n",
      " |  Method resolution order:\n",
      " |      GOES2GImagerProduct\n",
      " |      GOES_DL.product.sg_product.GOES2GProduct\n",
      " |      GOES_DL.product.product.GOESProduct\n",
      " |      abc.ABC\n",
      " |      builtins.object\n",
      " |  \n",
      " |  Methods defined here:\n",
      " |  \n",
      " |  __format__(self, format_spec: str) -> str\n",
      " |      Default object formatter.\n",
      " |  \n",
      " |  __init__(self, origin_id: str, scene_id: str = 'F', version: str = '1') -> None\n",
      " |      Initialize self.  See help(type(self)) for accurate signature.\n",
      " |  \n",
      " |  get_baseurl(self, timestamp: str) -> str\n",
      " |  \n",
      " |  get_filename(self, timestamp: str) -> str\n",
      " |  \n",
      " |  ----------------------------------------------------------------------\n",
      " |  Readonly properties defined here:\n",
      " |  \n",
      " |  scene_id\n",
      " |  \n",
      " |  version\n",
      " |  \n",
      " |  ----------------------------------------------------------------------\n",
      " |  Data and other attributes defined here:\n",
      " |  \n",
      " |  AVAILABLE_SCENE = {'C': 'CONUS (Contiguous U.S.)', 'F': 'Full Disk'}\n",
      " |  \n",
      " |  AVAILABLE_VERSION = ['1']\n",
      " |  \n",
      " |  SCENE_MAPPING = {'C': 'CONUS', 'F': 'GOES'}\n",
      " |  \n",
      " |  __abstractmethods__ = frozenset()\n",
      " |  \n",
      " |  __annotations__ = {'AVAILABLE_SCENE': dict[str, str], 'AVAILABLE_VERSI...\n",
      " |  \n",
      " |  ----------------------------------------------------------------------\n",
      " |  Data and other attributes inherited from GOES_DL.product.sg_product.GOES2GProduct:\n",
      " |  \n",
      " |  AVAILABLE_ORIGIN = {'G08': 'GOES08', 'G09': 'GOES09', 'G10': 'GOES10',...\n",
      " |  \n",
      " |  AVAILABLE_PRODUCT = ['MCMIP']\n",
      " |  \n",
      " |  ----------------------------------------------------------------------\n",
      " |  Methods inherited from GOES_DL.product.product.GOESProduct:\n",
      " |  \n",
      " |  __repr__(self) -> str\n",
      " |      Return repr(self).\n",
      " |  \n",
      " |  __str__(self) -> str\n",
      " |      Return str(self).\n",
      " |  \n",
      " |  ----------------------------------------------------------------------\n",
      " |  Readonly properties inherited from GOES_DL.product.product.GOESProduct:\n",
      " |  \n",
      " |  origin_id\n",
      " |  \n",
      " |  product_id\n",
      " |  \n",
      " |  ----------------------------------------------------------------------\n",
      " |  Data descriptors inherited from GOES_DL.product.product.GOESProduct:\n",
      " |  \n",
      " |  __dict__\n",
      " |      dictionary for instance variables (if defined)\n",
      " |  \n",
      " |  __weakref__\n",
      " |      list of weak references to the object (if defined)\n",
      "\n"
     ]
    }
   ],
   "source": [
    "help(product)"
   ]
  }
 ],
 "metadata": {
  "kernelspec": {
   "display_name": "Python 3 (ipykernel)",
   "language": "python",
   "name": "python3"
  },
  "language_info": {
   "codemirror_mode": {
    "name": "ipython",
    "version": 3
   },
   "file_extension": ".py",
   "mimetype": "text/x-python",
   "name": "python",
   "nbconvert_exporter": "python",
   "pygments_lexer": "ipython3",
   "version": "3.11.4"
  }
 },
 "nbformat": 4,
 "nbformat_minor": 5
}
