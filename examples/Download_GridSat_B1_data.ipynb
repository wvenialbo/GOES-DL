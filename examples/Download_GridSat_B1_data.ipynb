{
 "cells": [
  {
   "cell_type": "markdown",
   "id": "592c4b45-c27e-4fad-bffe-ff5ef8860464",
   "metadata": {},
   "source": [
    "# GOES-DL Usage Examples (GridSat-B1)\n",
    "\n",
    "**GOES-DL** is an open source tool to download GOES (Geostationary Operational Environmental Satellite) 2nd generation (GOES-8 to GOES-15) data from NOAA's [NCEI archive](https://www.ncdc.noaa.gov/gridsat/conusgoes-index.php), 3rd Generation (GOES-16 to GOES-18) data from [NOAA's archive on AWS](https://aws.amazon.com/marketplace/pp/prodview-ngejrbcumyjtu), and Gridded Satellite B1 (GridSat-B1) Climate Data Record, Version 2, from [NOAA's AWS](https://aws.amazon.com/marketplace/pp/prodview-jir2e4n66gfyo) and [NCEI archives](https://www.ncdc.noaa.gov/gridsat/gridsat-index.php) using Python."
   ]
  },
  {
   "cell_type": "markdown",
   "id": "8edc497b-fbdd-49d9-9481-8b1b4c045c48",
   "metadata": {},
   "source": [
    "## Download datafrom GridSat-B1 Climate Data Record (Version 2) dataset\n",
    "\n",
    "GridSat-B1 Climate Data Record are accessible via the NOAA archive hosted on AWS and through NOAA’s National Centers for Environmental Information archive.\n",
    "\n",
    "This tutorial covers the following topics:\n",
    "\n",
    "1. Using GOES-DL:\n",
    "   1. Importing the `GOES_DL` package\n",
    "   2. Importing the product locator class\n",
    "   3. Importing the datasource class\n",
    "   4. Importing the downloader class\n",
    "2. Initialising the downloader\n",
    "3. Downloading the data\n",
    "   1. Getting the data file for a single date\n",
    "   2. Getting data files for a range of dates"
   ]
  },
  {
   "cell_type": "markdown",
   "id": "c2bf1a6b-142f-419b-b4c3-e792050e2064",
   "metadata": {},
   "source": [
    "### 1. Using GOES-DL"
   ]
  },
  {
   "cell_type": "markdown",
   "id": "56fdd845-2b3e-44b0-ba55-35850d6743ba",
   "metadata": {},
   "source": [
    "#### 1.A. Importing the `GOES_DL` package\n",
    "\n",
    "You can access the GOES-DL library's functionalities by simply importing the GOES_DL package:"
   ]
  },
  {
   "cell_type": "code",
   "execution_count": 1,
   "id": "5feecdde-16cd-4815-a4da-7d7884abc898",
   "metadata": {},
   "outputs": [],
   "source": [
    "import GOES_DL"
   ]
  },
  {
   "cell_type": "markdown",
   "id": "e52ba005-d3cf-40cb-9578-bd8e98f79c89",
   "metadata": {},
   "source": [
    "or by specifically importing the required modules.\n",
    "\n",
    "The library provides three main classes with which data downloads are configured. The first main class is the product locator. The product locator provides the necessary information to find the data files in the dataset repository. This is the only step that is specific to each dataset being downloaded. Product locators are defined in the `GOES_DL.dataset` subpackage."
   ]
  },
  {
   "cell_type": "markdown",
   "id": "b66d6a02-cc36-4022-9e2b-0ba4c05848ff",
   "metadata": {},
   "source": [
    "#### 1.B. Importing the product locator\n",
    "\n",
    "There is only one product locator for the GridSat-B1 dataset, it is defined in the `locator_b1` module under the `gridsat` subpackage:"
   ]
  },
  {
   "cell_type": "code",
   "execution_count": 2,
   "id": "a9a06f49-ae32-4066-af25-03a3beec041b",
   "metadata": {},
   "outputs": [],
   "source": [
    "from GOES_DL.dataset.gridsat import GridSatProductLocatorB1 as ProductLocator"
   ]
  },
  {
   "cell_type": "markdown",
   "id": "7c09a8a9-a957-4382-95a2-4c5ce7857915",
   "metadata": {},
   "source": [
    "The `GridSatProductLocatorB1` constructor has a single parameter, `versions`, initialized by default to the value of the only version available from the datasource; so you don't need to change its value. The parameter can take as value a string or a list of strings of the desired versions of the data files."
   ]
  },
  {
   "cell_type": "markdown",
   "id": "5f54d3a3-212d-44b7-b62a-2a310779610b",
   "metadata": {},
   "source": [
    "#### 1.C. Importing the datasource class\n",
    "\n",
    "The second main class represents the datasource. GOES_DL provides two implementations focused on obtaining information from data repositories hosted on NCEI's HTTP servers or stored by NOAA in the Amazon Web Services cloud (AWS). The datasource provides the necessary functionality to access the data files from the repository, it abstracts the complexity of accessing data from different sources. Datasource classes are defined in the `GOES_DL.datasource` subpackage and are common for all datasets, just import the appropriate class for your use case.\n",
    "\n",
    "The GridSat-B1 dataset is hosted on both, NCEI's HTTP servers and AWS cloud storage. Let's use the AWS datasource class:"
   ]
  },
  {
   "cell_type": "code",
   "execution_count": 3,
   "id": "b5a633bf-ff9f-436f-8168-405d77382004",
   "metadata": {},
   "outputs": [],
   "source": [
    "from GOES_DL.datasource import DatasourceAWS as Datasource"
   ]
  },
  {
   "cell_type": "markdown",
   "id": "ebb1f858-d844-47b2-a72e-678ce8e7a32f",
   "metadata": {},
   "source": [
    "The datasource objects, `DatasourceAWS` and `DatasourceHTTP`, are initialised with the previously created locator object. It can optionally take as a second argument a `DatasourceCache` object, which can speed up the download if you plan to download multiple data packages from the same datasource folder. By default, downloads are not stored in any cache."
   ]
  },
  {
   "cell_type": "markdown",
   "id": "a7205d0d-ec21-4b82-94b0-e7c68fa6bdc5",
   "metadata": {},
   "source": [
    "#### 1.D. Importing the downloader class\n",
    "\n",
    "The third and final main class is the `Downloader` class. The downloader is the main interface for downloading data and is common to all use cases. It is initialized with the datasource and locator objects, as well as the date format to be used in the download process, optionally. In most situations you will want to use a more compressed format; data files are not typically stored every minute or second. By default, it uses the ISO 8601 date format: `YYYY-mm-DDTHH:MM:SSz`, e.g. `1970-04-20T00:00:00-04:00` or `2024-08-23T00:00:00Z`."
   ]
  },
  {
   "cell_type": "code",
   "execution_count": 4,
   "id": "fae1d30e-6b34-47a9-baf4-d2520dc9cdb2",
   "metadata": {},
   "outputs": [],
   "source": [
    "from GOES_DL.downloader import Downloader"
   ]
  },
  {
   "cell_type": "markdown",
   "id": "308086b5-9077-4e09-a586-141427975f14",
   "metadata": {},
   "source": [
    "### 2. Initialising the downloader\n",
    "\n",
    "Here we first instantiate a product locator object and with it we initialize the datasource object. Then, with both of them, we create the downloader object that we will use to download the data files:"
   ]
  },
  {
   "cell_type": "code",
   "execution_count": 5,
   "id": "fe7cf39b-67ba-46cd-a4df-89bc3c53883a",
   "metadata": {},
   "outputs": [],
   "source": [
    "# Initialize the downloader for GridSat-B1\n",
    "\n",
    "locator = ProductLocator()\n",
    "\n",
    "datasource = Datasource(locator)\n",
    "\n",
    "downloader = Downloader(\n",
    "    datasource=datasource,\n",
    "    locator=locator,\n",
    "    date_format=\"%Y-%m-%dT%H:%M%z\",\n",
    ")"
   ]
  },
  {
   "cell_type": "markdown",
   "id": "1763d26d-1344-422d-9b3a-e70f1819f696",
   "metadata": {},
   "source": [
    "### 3. Downloading the data"
   ]
  },
  {
   "cell_type": "markdown",
   "id": "f467016e-a7eb-4221-bff9-b1a4127fd71d",
   "metadata": {},
   "source": [
    "#### 3.A. Getting the data file for a single date\n",
    "\n",
    "To download a data file, you just invoke the `get_file()` method on the downloader object providing a single `start` date. `get_file()` will return a list containing a single data file as a `bytearray` object if a data file for the corresponding date is stored in the repository, otherwise, an empty list will be returned."
   ]
  },
  {
   "cell_type": "code",
   "execution_count": 6,
   "id": "381c144e-03e2-4475-a837-950d7bd658f8",
   "metadata": {},
   "outputs": [],
   "source": [
    "# Set your desired date...\n",
    "#files = downloader.get_files(start=\"1984-08-23T00:00Z\")"
   ]
  },
  {
   "cell_type": "markdown",
   "id": "98e121a1-7309-4774-b783-a32ff43bf3bd",
   "metadata": {},
   "source": [
    "#### 3.B. Getting data files for a range of dates\n",
    "\n",
    "To download data files for a range of dates, invoke the `get_file()` method on the downloader object providing a `start` date and an `date` date, both are includen in the download range. `get_file()` will return a list containing all data files as `bytearray` objects. If there are no data file for the given range stored in the repository, an empty list will be returned."
   ]
  },
  {
   "cell_type": "code",
   "execution_count": 7,
   "id": "5d00e453-5df6-44f5-a18a-be437bb58ba2",
   "metadata": {},
   "outputs": [],
   "source": [
    "# ...or your desired date range\n",
    "#files2 = downloader.get_files(start=\"1984-08-23T00:00-0004\", end=\"1984-08-24T00:00-0004\")"
   ]
  },
  {
   "cell_type": "markdown",
   "id": "a4ac0853-3309-44cd-887f-95bd4b3412d4",
   "metadata": {},
   "source": [
    "**NOTE**: Any error will raise an exception object, refer to the documentation for detailed information on the API and its behaviour."
   ]
  }
 ],
 "metadata": {
  "kernelspec": {
   "display_name": "Python 3 (ipykernel)",
   "language": "python",
   "name": "python3"
  },
  "language_info": {
   "codemirror_mode": {
    "name": "ipython",
    "version": 3
   },
   "file_extension": ".py",
   "mimetype": "text/x-python",
   "name": "python",
   "nbconvert_exporter": "python",
   "pygments_lexer": "ipython3",
   "version": "3.12.6"
  }
 },
 "nbformat": 4,
 "nbformat_minor": 5
}
