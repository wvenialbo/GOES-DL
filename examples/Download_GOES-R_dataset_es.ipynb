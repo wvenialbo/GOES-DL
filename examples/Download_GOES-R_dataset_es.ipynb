{
 "cells": [
  {
   "cell_type": "markdown",
   "id": "d6bd9ef8-9f21-41c0-be05-f20a982cb8c3",
   "metadata": {
    "deletable": true,
    "editable": true,
    "frozen": false
   },
   "source": [
    "# Descarga de datos - GOES-16 (Serie R)"
   ]
  },
  {
   "cell_type": "markdown",
   "id": "a37ba7d3-a301-4331-9c01-c1566b0cbf09",
   "metadata": {
    "deletable": true,
    "editable": true,
    "frozen": false
   },
   "source": [
    "## Descarga de datos"
   ]
  },
  {
   "cell_type": "markdown",
   "id": "aae761ef-5d1a-4479-be1d-aee5e44af645",
   "metadata": {
    "deletable": true,
    "editable": true,
    "frozen": false
   },
   "source": [
    "Utilizaremos la librería GOES-DL, cuyo código fuente está disponible en\n",
    "[https://github.com/wvenialbo/GOES-DL/](https://github.com/wvenialbo/GOES-DL/),\n",
    "para instalarla o actualizarla hacemos:\n",
    "````sh\n",
    "pip install -U goes-dl\n",
    "````\n",
    "El paquete ya incluye todas las librerías requeridas para funcionar."
   ]
  },
  {
   "cell_type": "code",
   "execution_count": 1,
   "id": "a1b42ba5-d8ef-4fda-b840-77dd5a431d8d",
   "metadata": {
    "deletable": true,
    "editable": true,
    "frozen": false
   },
   "outputs": [
    {
     "name": "stdout",
     "output_type": "stream",
     "text": [
      "Requirement already satisfied: goes-dl in c:\\ds2024_2\\.venv\\lib\\site-packages (0.1rc4)\n",
      "Requirement already satisfied: boto3~=1.35.42 in c:\\ds2024_2\\.venv\\lib\\site-packages (from goes-dl) (1.35.96)\n",
      "Requirement already satisfied: requests~=2.32.3 in c:\\ds2024_2\\.venv\\lib\\site-packages (from goes-dl) (2.32.3)\n",
      "Requirement already satisfied: botocore<1.36.0,>=1.35.96 in c:\\ds2024_2\\.venv\\lib\\site-packages (from boto3~=1.35.42->goes-dl) (1.35.96)\n",
      "Requirement already satisfied: jmespath<2.0.0,>=0.7.1 in c:\\ds2024_2\\.venv\\lib\\site-packages (from boto3~=1.35.42->goes-dl) (1.0.1)\n",
      "Requirement already satisfied: s3transfer<0.11.0,>=0.10.0 in c:\\ds2024_2\\.venv\\lib\\site-packages (from boto3~=1.35.42->goes-dl) (0.10.4)\n",
      "Requirement already satisfied: charset-normalizer<4,>=2 in c:\\ds2024_2\\.venv\\lib\\site-packages (from requests~=2.32.3->goes-dl) (3.3.2)\n",
      "Requirement already satisfied: idna<4,>=2.5 in c:\\ds2024_2\\.venv\\lib\\site-packages (from requests~=2.32.3->goes-dl) (3.10)\n",
      "Requirement already satisfied: urllib3<3,>=1.21.1 in c:\\ds2024_2\\.venv\\lib\\site-packages (from requests~=2.32.3->goes-dl) (2.2.3)\n",
      "Requirement already satisfied: certifi>=2017.4.17 in c:\\ds2024_2\\.venv\\lib\\site-packages (from requests~=2.32.3->goes-dl) (2024.8.30)\n",
      "Requirement already satisfied: python-dateutil<3.0.0,>=2.1 in c:\\ds2024_2\\.venv\\lib\\site-packages (from botocore<1.36.0,>=1.35.96->boto3~=1.35.42->goes-dl) (2.9.0.post0)\n",
      "Requirement already satisfied: six>=1.5 in c:\\ds2024_2\\.venv\\lib\\site-packages (from python-dateutil<3.0.0,>=2.1->botocore<1.36.0,>=1.35.96->boto3~=1.35.42->goes-dl) (1.16.0)\n"
     ]
    }
   ],
   "source": [
    "# Install the required packages\n",
    "!pip install -U goes-dl"
   ]
  },
  {
   "cell_type": "markdown",
   "id": "1a4a281d-143f-44cf-ad19-c5b0fd8dad02",
   "metadata": {
    "deletable": true,
    "editable": true,
    "frozen": false
   },
   "source": [
    "### Cargar las librerías para la descarga de datos"
   ]
  },
  {
   "cell_type": "markdown",
   "id": "e29c00ae-f290-4b09-9c24-dc4516f45225",
   "metadata": {
    "deletable": true,
    "editable": true,
    "frozen": false
   },
   "source": [
    "#### Importar las librerías necesarias\n",
    "\n",
    "Importar el localizador de productos primarios (PP) de imágenes (ABI), el gerenciador de la fuente de datos (AWS) y el descargador de datasets.\n"
   ]
  },
  {
   "cell_type": "code",
   "execution_count": 2,
   "id": "8bb265d9-d855-41fb-b543-5c2fbff3d366",
   "metadata": {
    "deletable": true,
    "editable": true,
    "frozen": false
   },
   "outputs": [],
   "source": [
    "# Import the locator and datasource according to your desired product\n",
    "from goesdl.dataset.goes import GOESProductLocatorABIPP\n",
    "from goesdl.datasource import DatasourceAWS\n",
    "from goesdl.downloader import Downloader"
   ]
  },
  {
   "cell_type": "markdown",
   "id": "ed4668e2-37eb-4869-9ba0-5d2cee2fd089",
   "metadata": {
    "deletable": true,
    "editable": true,
    "frozen": false
   },
   "source": [
    "#### Importar las librerías opcionales\n",
    "\n",
    "Importar los manejadores de repositorio y de caché para la fuente de datos.\n",
    "\n",
    "_Esto únicamente será necesario si queremos compartir una única instancia de un manejador, o de ambos, entre distintas fuentes de datos; o cuando se desea mayor control del repositorio o el caché . Para este ejemplo lo haremos a modo de demostración._"
   ]
  },
  {
   "cell_type": "code",
   "execution_count": 3,
   "id": "20bb0b16-f10d-4701-8e57-acdfceb776f2",
   "metadata": {
    "deletable": true,
    "editable": true,
    "frozen": false
   },
   "outputs": [],
   "source": [
    "# Import the cache and repository handlers\n",
    "from goesdl.datasource import DatasourceCache\n",
    "from goesdl.utils import FileRepository"
   ]
  },
  {
   "cell_type": "markdown",
   "id": "192a8cbf-f2d9-43b9-86aa-d44bd02ae243",
   "metadata": {
    "deletable": true,
    "editable": true,
    "frozen": false
   },
   "source": [
    "### Instanciar los objetos auxiliares\n",
    "\n",
    "_Esto únicamente será necesario si queremos compartir una única instancia de un manejador, o de ambos, entre distintas fuentes de datos. Para este ejemplo lo haremos a modo de demostración._"
   ]
  },
  {
   "cell_type": "markdown",
   "id": "a1f7372a-b877-411b-99b3-f84e0ba73aaa",
   "metadata": {
    "deletable": true,
    "editable": true,
    "frozen": false
   },
   "source": [
    "#### Instanciar el manejador de repositorio\n",
    "\n",
    "El manejador de repositorio provee funcionalidades básicas para interactuar con el sistema de archivos local para almacenar los datos descargados y leer los conjuntos de datos desde los archivos locales. Usa como directorio por defecto el directorio de trabajo actual en el momento de su instanciación; en otras palabras, la instrucción\n",
    "\n",
    "```python\n",
    "my_repo = FileRepository()\n",
    "```\n",
    "\n",
    "es equivalente a\n",
    "\n",
    "```python\n",
    "my_repo = FileRepository(\".\") # u otra cadena equivalente, \"\", \"./\", etc.\n",
    "```\n",
    "\n",
    "Si se especifica una ruta donde guardar los archivos, crea un nuevo directorio en la ruta indicada si no existe; cualquier directorio principal faltante de esta ruta se crea según sea necesario.\n",
    "\n",
    "Un único manejador de repositorio puede proveer servicio a varios gerenciadores de fuente de datos, compartiendo un directorio raíz común. Si no se provee una instancia del manejador de repositorio al gerenciador de fuente de datos, éste creará uno privado implícitamente."
   ]
  },
  {
   "cell_type": "code",
   "execution_count": 4,
   "id": "f2e086f3-449f-435c-be5b-e7f3dcac7ed9",
   "metadata": {
    "deletable": true,
    "editable": true,
    "frozen": false
   },
   "outputs": [],
   "source": [
    "# Set the path to your repository\n",
    "repo_path = \"./20201114T20\"\n",
    "\n",
    "# Instance a repository manager\n",
    "my_repo = FileRepository(repo_path)"
   ]
  },
  {
   "cell_type": "markdown",
   "id": "f7e50941-a7a5-4e5a-8966-0f660762253c",
   "metadata": {
    "deletable": true,
    "editable": true,
    "frozen": false
   },
   "source": [
    "#### Instanciar el manejador de caché\n",
    "\n",
    "El manejador de caché administra la lista de archivos disponibles de un producto determinado en la fuente de datos; obtener esta lista de los servidores puede consumir mucho tiempo y al ser información estática, en muchos casos, se puede ahorrar tiempo manteniendo una única lista local cuando se quiere acceder por separado a distintos productos en una misma sesión.\n",
    "\n",
    "Establece por defecto un tiempo infinito de refresco, es decir, no se vacía durante toda la sesión. En otras palabras, la instrucción\n",
    "\n",
    "```python\n",
    "my_cache = DatasourceCache()\n",
    "```\n",
    "\n",
    "es equivalente a\n",
    "\n",
    "```python\n",
    "my_cache = DatasourceCache(\"+inf\")\n",
    "```\n",
    "\n",
    "El tiempo de permanencia de una lista de archivos en el caché se mantiene por rango de fechas y productos o carpeta de productos de acuerdo a la estructura con la que se guardan los datos en la fuente; en otras palabras, el caché se vacía selectivamente para las listas que ya superaron el tiempo de refresco estipulado; las listas que aún no superaron el tiempo de permanencia se dejan en memoria.\n",
    "\n",
    "Si se desea que las listas no permanezcan en la memoria, se debe instanciar un manejador de caché con tiempo de refresco igual a 0 segundos y pasarlo como argumento al gerenciador de fuente de datos; por ejemplo, cuando se descargan datos dentro de un rango histórico de fechas.\n",
    "\n",
    "Cuando se descargan datos que se actualizan en tiempo real, la tasa de refresco debe establecerse acorde con la menor tasa de refresco de la fuente de datos, es decir un periodo igual o menor que la del producto que se actualiza con más frecuencia.\n",
    "\n",
    "Como el refresco dela lista se realiza por demanda, es conveniente vaciar el caché explícitamente al terminar todas las operaciones de descarga.\n",
    "\n",
    "Un único manejador de caché puede servir a varios gerenciadores de fuente de datos, compartiendo una tasa de refresco común. Si no se provee una instancia del manejador de caché al gerenciador de fuente de datos, éste creará uno privado implícitamente."
   ]
  },
  {
   "cell_type": "code",
   "execution_count": 5,
   "id": "21348c33-b292-42c2-b2f8-ea90faecc685",
   "metadata": {
    "deletable": true,
    "editable": true,
    "frozen": false
   },
   "outputs": [],
   "source": [
    "# Note that GOES-R series datasets are updated every 10 minutes.\n",
    "\n",
    "# Set the cache refresh time\n",
    "refresh_time = 600\n",
    "\n",
    "# Instance a cache manager\n",
    "my_cache = DatasourceCache(600)"
   ]
  },
  {
   "cell_type": "markdown",
   "id": "e00f1cc1-331e-4835-8efe-4916fd3ab07c",
   "metadata": {
    "deletable": true,
    "editable": true,
    "frozen": false
   },
   "source": [
    "### Instanciar los objetos principales"
   ]
  },
  {
   "cell_type": "markdown",
   "id": "4280512a-6a30-4f7a-a407-33c246588efb",
   "metadata": {
    "deletable": true,
    "editable": true,
    "frozen": false
   },
   "source": [
    "#### Inicializar el localizador de productos\n",
    "\n",
    "Un localizador de productos es responsable de:\n",
    "\n",
    "1. Generar una lista de rutas de carpetas en función de la estructura de directorio y las convenciones de nomenclatura del conjunto de datos, los detalles del producto y un rango de fechas especificado. Las rutas generadas deben cubrir el intervalo de tiempo definido por la granularidad temporal del directorio del conjunto de datos dentro del período requerido; las rutas a las carpetas que contienen las fechas inicial y final deben estar incluidas en la lista.\n",
    "\n",
    "2. Verificar si un nombre de archivo determinado coincide con el patrón de nombre de archivo del producto en función de las convenciones de nomenclatura del archivo del conjunto de datos y las especificaciones del producto.\n",
    "\n",
    "3. Extraer la información de \"fecha y hora\" UTC correspondiente de un nombre de archivo de producto válido.\n",
    "\n",
    "En este ejemplo, utilizaremos el siguiente producto del instrumento ABI _(Advanced Baseline Imager)_ de los satélites GOES de la serie R (16‒19):\n",
    "\n",
    "- **CMIP**: _Cloud and Moisture Imagery Product_ (imágenes de los canales básicos)\n",
    "- **F**: _Full disk_ (escena del disco planetario completo)\n",
    "- **C13**: _Band 13, Clean longwave infrared window_ (canal 13, IR de “Onda larga limpio”)\n",
    "-  **G16**: _GOES-16 (GOES East)_ (satélite GOES-16, originalmente GOES-R)\n",
    "\n",
    "Por defecto se descargan los productos de Nivel 2 (_Level 2_).\n",
    "\n",
    "Para acceder a más de una banda (o canal) del conjunto de datos de al mismo tiempo, se puede pasar una lista de canales; por ejemplo,\n",
    "\n",
    "```python\n",
    "locator = GOESProductLocatorABIPP(\"CMIP\", \"F\", [\"C02\", \"C13\"], \"G16\")\n",
    "```\n",
    "\n",
    "Cuando no se requiere los datos de más de un canal, las siguientes instrucciones\n",
    "\n",
    "```python\n",
    "locator = GOESProductLocatorABIPP(\"CMIP\", \"F\", \"C13\", \"G16\")\n",
    "```\n",
    "\n",
    "y\n",
    "\n",
    "```python\n",
    "locator = GOESProductLocatorABIPP(\"CMIP\", \"F\", [\"C13\"], \"G16\")\n",
    "```\n",
    "\n",
    "son equivalentes.\n",
    "\n",
    "Tenga en cuenta que no todos los conjuntos de datos permiten acceder a más de una banda al mismo tiempo, y que algunos conjuntos de datos pueden incluir varias bandas en el mismo archivo. La convención de llamada en cada caso es específica de cada producto y su localizador; consulte la ayuda o la documentación de la API para obtener más detalles."
   ]
  },
  {
   "cell_type": "code",
   "execution_count": 6,
   "id": "a6f24af9-b18c-4e6b-8a86-875a6ddb944d",
   "metadata": {
    "deletable": true,
    "editable": true,
    "frozen": false
   },
   "outputs": [],
   "source": [
    "# Initialize the product locator for GOES-R Series (set your desired product)\n",
    "locator = GOESProductLocatorABIPP(\"CMIP\", \"F\", \"C13\", \"G16\")"
   ]
  },
  {
   "cell_type": "markdown",
   "id": "5b8792a7-2c6e-47fb-9c1a-9c8ae353f9db",
   "metadata": {
    "deletable": true,
    "editable": true,
    "frozen": false
   },
   "source": [
    "#### Inicializar el gerenciador de fuente de datos\n",
    "\n",
    "El gerenciador de fuente de datos es responsable de listar el contenido de un directorio en una ubicación remota y de descargar archivos desde esa ubicación. Requiere como parámetro obligatorio una cadena con la URL del servidor y la ubicación de los archivos de datos; dependiendo del tipo de fuente podría tomar obligatoria u opcionalmente una tupla de cadenas con información adicional, como regiones, etc. En lugar de una cadena también puede recibir un localizador de productos que debe proveer al gerenciador con aquella información.\n",
    "\n",
    "Opcionalmente recibe un manejador de repositorio, un manejador de caché, o ambos; en caso contrario, crea una instancia implícita de uno de ellos o de ambos.\n",
    "\n",
    "Para nuestro ejemplo actual, los siguientes códigos son equivalentes:\n",
    "\n",
    "```python\n",
    "# Set the cache refresh time\n",
    "refresh_time = 600\n",
    "\n",
    "# Instance a cache manager\n",
    "my_cache = DatasourceCache(refresh_time)\n",
    "\n",
    "# Initialize the product locator\n",
    "locator = GOESProductLocatorABIPP(\"CMIP\", \"F\", \"C13\", \"G16\")\n",
    "\n",
    "# Initialize the datasource manager\n",
    "datasource = DatasourceAWS(locator, cache=my_cache)\n",
    "```\n",
    "\n",
    "o\n",
    "\n",
    "```python\n",
    "# Initialize the datasource manager\n",
    "datasource = DatasourceAWS(locator, cache=refresh_time)\n",
    "```\n",
    "\n",
    "o también\n",
    "\n",
    "```python\n",
    "# Initialize the datasource manager\n",
    "datasource = DatasourceAWS(locator, cache=600)\n",
    "```\n",
    "\n",
    "Tenga en cuenta que al inicializar el gerenciador, éste intentará conectarse al servidor de la fuente de datos para realizar tareas de verificación de autenticidad e iniciar una sesión, de ser necesario; esto puede tardar varios segundos."
   ]
  },
  {
   "cell_type": "code",
   "execution_count": 7,
   "id": "0dc9d863-930c-4aaa-a1d3-0c554798520e",
   "metadata": {
    "deletable": true,
    "editable": true,
    "frozen": false
   },
   "outputs": [
    {
     "name": "stdout",
     "output_type": "stream",
     "text": [
      "Connecting to the datasource...\n",
      "Connected!\n"
     ]
    }
   ],
   "source": [
    "# Initialize the datasource manager\n",
    "print(\"Connecting to the datasource...\")\n",
    "datasource = DatasourceAWS(locator, cache=my_cache)\n",
    "print(\"Connected!\")"
   ]
  },
  {
   "cell_type": "markdown",
   "id": "9393244d-fd53-4669-8101-f24befe8882f",
   "metadata": {
    "deletable": true,
    "editable": true,
    "frozen": false
   },
   "source": [
    "#### Inicializar el gerenciador de descarga de datos\n",
    "\n",
    "El gerenciador de descarga de datos proporciona métodos para descargar archivos que coincidan con las marcas de tiempo entre una hora de inicio y una hora de finalización desde la fuente de datos. Recibe un objeto gerenciador de fuente de datos y un objeto localizador de productos; opcionalmente puede recibir una cadena de especificación de formato de fecha, una valor booleano indicando si debe imprimir mensajes con el progreso de la descarga, y un entero indicando un valor de toleracia de tiempo, en segundos, para el rango requerido.\n",
    "\n",
    "El gerenciador de descarga es independiente de la fuente de datos, el conjunto de datos y sus productos. El gerenciador de fuente de datos y el localizador de productos implementen los métodos necesarios especificados en las interfaces `goes.datasource.Datasource` y `goes.dataset.ProductLocator`, respectivamente, para el funcionamiento correcto del gerenciador de descarga.\n",
    "\n",
    "El valor por defecto de la cadena de reconocimiento de fechas es `\"%Y-%m-%dT%H:%M:%S%z\"`, estándar para el formato de las marcas de tiempo ISO 8601 sin parte fraccionaria de segundos. Como los datos de los satélites GOES, exceptuando ocasiones particulare, se actualizan cada 10 minutos, podemos dejar de lado el campo de segundos y utilizar un formato ISO 8601 más corto `\"%Y-%m-%dT%H:%M%z\"`, o cualquier otro formato que sea del agrado o conveniencia del usuario.\n",
    "\n",
    "Los valores por defecto para la bandera de impresión de mensajes con el progreso de la descarga es verdadero, y el tiempo de toleracia por defecto es de 60 segundos; el valor del tiempo de toleracia se resta de la fecha inicial y se suma a la fecha final del rango de descarga de datos.\n",
    "\n",
    "Por defecto, el gerenciador de descarga crea una instancia de un manejador de repositorio local que usa el directorio actual para almacenar las descargas.\n",
    "\n",
    "Los siguientes códigos son equivalentes:\n",
    "\n",
    "```python\n",
    "# Set the path to your repository\n",
    "repo_path = \"~/repository/20201114T20\"\n",
    "\n",
    "# Instance a repository manager\n",
    "my_repo = DatasourceRepository(repo_path)\n",
    "\n",
    "# Initialize the download manager\n",
    "downloader = Downloader(\n",
    "    datasource=datasource,\n",
    "    locator=locator,\n",
    "    repository=my_repo,\n",
    "    date_format=date_format\n",
    ")\n",
    "```\n",
    "\n",
    "o\n",
    "\n",
    "```python\n",
    "# Initialize the download manager\n",
    "downloader = Downloader(\n",
    "    datasource=datasource,\n",
    "    locator=locator,\n",
    "    repository=repo_path,\n",
    "    date_format=date_format\n",
    ")\n",
    "```\n",
    "\n",
    "o bien,\n",
    "\n",
    "```python\n",
    "# Initialize the download manager\n",
    "downloader = Downloader(\n",
    "    datasource=datasource,\n",
    "    locator=locator,\n",
    "    repository=\"~/repository/20201114T20\",\n",
    "    date_format=date_format\n",
    ")\n",
    "```"
   ]
  },
  {
   "cell_type": "code",
   "execution_count": 8,
   "id": "3d78e201-b386-4491-9c04-32a4c62f5e9c",
   "metadata": {
    "deletable": true,
    "editable": true,
    "frozen": false
   },
   "outputs": [],
   "source": [
    "# Set the path to your repository\n",
    "date_format = \"%Y-%m-%dT%H:%M%z\"\n",
    "cdate_format = \"%Y-%m-%dT%H:%MZ\"\n",
    "\n",
    "# Initialize the download manager\n",
    "downloader = Downloader(\n",
    "    datasource=datasource,\n",
    "    locator=locator,\n",
    "    repository=my_repo,\n",
    "    date_format=date_format\n",
    ")"
   ]
  },
  {
   "cell_type": "markdown",
   "id": "0ba45b06-5fbb-4aa1-9b86-10aa31242ee7",
   "metadata": {
    "deletable": true,
    "editable": true,
    "frozen": false
   },
   "source": [
    "### Descagar automática de datos"
   ]
  },
  {
   "cell_type": "markdown",
   "id": "85ef2402-6876-46dc-b961-0cb2112fbd2b",
   "metadata": {
    "deletable": true,
    "editable": true,
    "frozen": false
   },
   "source": [
    "#### Descagar los datos para un único instante\n",
    "\n",
    "Si no se proporciona un tiempo final, el gerenciador de descarga intentará encontrar los productos requeridos que corresponden a esa único instante de tiempo, asignando el tiempo incial como final y aplicando posteriormente las tolerancias. El tiempo inicial debe especificarse siempre.\n",
    "\n",
    "La operación retorna una lista de cadenas con la ruta relativa de los archivos descargados respecto a la ruta raíz del repositorio. Si los archivos ya se encuentran en el repositorio, el archivo no será descargado y, en caso que se esté imprimiendo el progreso, esto será indicado. Igualmente, si la lista de archivos aún no ha expirado, se accederá a la copia que está en el caché, de lo contrario se consultará nuevamente con el servidor en busca de actualizaciones."
   ]
  },
  {
   "cell_type": "code",
   "execution_count": 9,
   "id": "df5a2766-736c-4ade-bf0a-604134cdad98",
   "metadata": {
    "deletable": true,
    "editable": true,
    "frozen": false
   },
   "outputs": [
    {
     "name": "stdout",
     "output_type": "stream",
     "text": [
      "Retrieving available file list\n",
      "Downloading files:\n",
      "1/1 2020/319/20/OR_ABI-L2-CMIPF-M6C13_G16_s20203192000154_e20203192009473_c20203192009573.nc\n",
      "    ... downloaded succesfully\n",
      "Download finished!\n"
     ]
    }
   ],
   "source": [
    "# Set your desired date...\n",
    "start_date = \"2020-11-14T20:00Z\"\n",
    "\n",
    "# Download the files\n",
    "files_single_date = downloader.download_files(start=start_date)\n",
    "print(\"Download finished!\")"
   ]
  },
  {
   "cell_type": "markdown",
   "id": "94db7135-dbce-48ee-b8a9-72dbf5ab97c6",
   "metadata": {
    "deletable": true,
    "editable": true,
    "frozen": false
   },
   "source": [
    "#### Descagar los datos para un rango de tiempo\n",
    "\n",
    "Proporcionando un rango de fechas en la forma de un tiempo inicial y un tiempo final, el gerenciador de descarga intentará encontrar los productos que corresponden a ese rango de fechas.\n",
    "\n",
    "La operación retorna una lista de cadenas con la ruta relativa de los archivos descargados respecto a la ruta raíz del repositorio. Si los archivos ya se encuentran en el repositorio, el archivo no será descargado y, en caso que se esté imprimiendo el progreso, esto será indicado. Igualmente, si la lista de archivos aún no ha expirado, se accederá a la copia que está en el caché, de lo contrario se consultará nuevamente con el servidor en busca de actualizaciones."
   ]
  },
  {
   "cell_type": "code",
   "execution_count": 10,
   "id": "5e9a4ba5-31aa-4609-b3b1-9182ff54f3bf",
   "metadata": {
    "deletable": true,
    "editable": true,
    "frozen": false
   },
   "outputs": [
    {
     "name": "stdout",
     "output_type": "stream",
     "text": [
      "Retrieving available file list\n",
      "Downloading files:\n",
      "1/2 2020/319/20/OR_ABI-L2-CMIPF-M6C13_G16_s20203192000154_e20203192009473_c20203192009573.nc\n",
      "    ... already downloaded\n",
      "2/2 2020/319/20/OR_ABI-L2-CMIPF-M6C13_G16_s20203192010154_e20203192019473_c20203192019581.nc\n",
      "    ... downloaded succesfully\n",
      "Download finished!\n"
     ]
    }
   ],
   "source": [
    "# Set your desired date range\n",
    "start_date = \"2020-11-14T20:00Z\"\n",
    "end_date = \"2020-11-14T20:10Z\"\n",
    "\n",
    "# Download the files\n",
    "files_date_range = downloader.download_files(\n",
    "    start=start_date,\n",
    "    end=end_date\n",
    ")\n",
    "print(\"Download finished!\")"
   ]
  },
  {
   "cell_type": "markdown",
   "id": "af4b3ebf-b291-4e6b-b44e-b68450667fc0",
   "metadata": {
    "deletable": true,
    "editable": true,
    "frozen": false
   },
   "source": [
    "#### Descagar los datos más recientes\n",
    "\n",
    "Proporcionando el rango de fechas entre la hora actual y la de hace diez minutos se podrá descargar el último dataset almancenado.\n",
    "\n",
    "Se puede buscar dentro de los últimos quince minutos ya que, aunque las imágenes se capturan cada diez minutos, el repositorio remoto no siempre se actualiza al instante. Esto puede causar que se descarguen las dos últimas imágenes; pero si el código se coloca en un loop para mantener actualizado el repositorio local, las imágenes que ya se descargaron no se volverán a descargar.\n"
   ]
  },
  {
   "cell_type": "code",
   "execution_count": 11,
   "id": "16da19d4-06e7-40a9-9ef1-d866d7ec7151",
   "metadata": {
    "deletable": true,
    "editable": true,
    "frozen": false
   },
   "outputs": [
    {
     "name": "stdout",
     "output_type": "stream",
     "text": [
      "Retrieving available file list\n",
      "Downloading files:\n",
      "Download finished!\n"
     ]
    }
   ],
   "source": [
    "import datetime\n",
    "\n",
    "# Get the current time in UTC\n",
    "now = datetime.datetime.now(datetime.UTC)\n",
    "\n",
    "# Calculate the time 15 minutes ago\n",
    "fifteen_minutes_ago = now - datetime.timedelta(minutes=15)\n",
    "\n",
    "# Format the dates in the desired format\n",
    "start_date = now.strftime(cdate_format)\n",
    "end_date = fifteen_minutes_ago.strftime(cdate_format)\n",
    "\n",
    "# Download the files\n",
    "files_date_range = downloader.download_files(\n",
    "    start=start_date,\n",
    "    end=end_date\n",
    ")\n",
    "print(\"Download finished!\")"
   ]
  },
  {
   "cell_type": "markdown",
   "id": "0164596f-d728-4f44-926a-7e2d57ffdd8c",
   "metadata": {
    "deletable": true,
    "editable": true,
    "frozen": false
   },
   "source": [
    "### Descarga selectiva de datos\n",
    "\n",
    "La implementación actual realiza un montón de filtrados para evitar descargar todos los productos que el usuario no necesita que puedan estar en un mismo directorio del servidor de fuente de datos, así como a un rango parcial de fechas dentro de un mismo directorio; sin embargo, no soporta la opción de filtrar con una granularidad mayor los archivos que corresponden a un rango de tiempo, o con algún otro criterio arbitrario que el usuario requiera.\n",
    "\n",
    "Para lograr ese cometido, es posible obtener primero la lista de archivos que corresponden al rango y características del producto especificados por el usuario para someterla a un filtrado personalizado antes de continuar con la descarga.\n",
    "\n",
    "Esto es válido tanto para la descarga de datos para un instante como para un rango de fechas. Para este ejemplo mostraremos únicamente el segundo caso."
   ]
  },
  {
   "cell_type": "markdown",
   "id": "dc0bdbef-374d-45e9-9f27-81cff8dea822",
   "metadata": {
    "deletable": true,
    "editable": true,
    "frozen": false
   },
   "source": [
    "#### Descarga de la lista de archivos\n",
    "\n",
    "Esta operación es idéntica a la descarga automática, con la diferencia de que se invoca al método `list_files()` en lugar de `download_files()`.\n",
    "\n",
    "La operación retorna una lista de cadenas con la ruta relativa de los archivos descargados respecto a la ruta raíz del repositorio. Si la lista de archivos aún no ha expirado, se accederá a la copia que está en el caché, de lo contrario se consultará nuevamente con el servidor en busca de actualizaciones; sin embargo, ningún archivo será descargado."
   ]
  },
  {
   "cell_type": "code",
   "execution_count": 12,
   "id": "33d2b3a0-d410-4714-bbfc-46357597f2f2",
   "metadata": {
    "deletable": true,
    "editable": true,
    "frozen": false
   },
   "outputs": [
    {
     "name": "stdout",
     "output_type": "stream",
     "text": [
      "Retrieving available file list\n",
      "File list retrieved!\n"
     ]
    }
   ],
   "source": [
    "# Set your desired date range\n",
    "start_date = \"2020-11-14T20:00Z\"\n",
    "end_date = \"2020-11-14T21:00Z\"\n",
    "\n",
    "# Download the file list\n",
    "files_date_range = downloader.list_files(\n",
    "    start=start_date,\n",
    "    end=end_date\n",
    ")\n",
    "print(\"File list retrieved!\")"
   ]
  },
  {
   "cell_type": "markdown",
   "id": "3e0966e7-60b9-4f00-a243-702962a6d185",
   "metadata": {
    "deletable": true,
    "editable": true,
    "frozen": false
   },
   "source": [
    "#### Filtrado de la lista de archivos\n",
    "\n",
    "Al obtenerse la lista de archivos, el usuario podrá aplicar el filtro que requiera; para este ejemplo nos limitaremos a seleccionar los primeros 10 archivos de la lista e ignorar el resto."
   ]
  },
  {
   "cell_type": "code",
   "execution_count": 13,
   "id": "52ec2c96-01cd-4f17-a96d-f834e0ef9d6f",
   "metadata": {
    "deletable": true,
    "editable": true,
    "frozen": false
   },
   "outputs": [],
   "source": [
    "filtered_date_range = files_date_range[:3]"
   ]
  },
  {
   "cell_type": "markdown",
   "id": "9b1e39ad-a602-488f-b410-f95a51702820",
   "metadata": {
    "deletable": true,
    "editable": true,
    "frozen": false
   },
   "source": [
    "#### Descarga de los archivos seleccionados\n",
    "\n",
    "Para realizar esta operación invocamos al método `get_files()` que recibe, como único argumento, nuestra lista de archivos filtrada.\n",
    "\n",
    "La operación retorna una lista de cadenas con la ruta relativa de los archivos descargados respecto a la ruta raíz del repositorio. Si los archivos ya se encuentran en el repositorio, el archivo no será descargado y, en caso que se esté imprimiendo el progreso, esto será indicado."
   ]
  },
  {
   "cell_type": "code",
   "execution_count": 14,
   "id": "9ed8c87d-4c13-4e74-95be-e0d7e9a65ab9",
   "metadata": {
    "deletable": true,
    "editable": true,
    "frozen": false
   },
   "outputs": [
    {
     "name": "stdout",
     "output_type": "stream",
     "text": [
      "Downloading files:\n",
      "1/3 2020/319/20/OR_ABI-L2-CMIPF-M6C13_G16_s20203192000154_e20203192009473_c20203192009573.nc\n",
      "    ... already downloaded\n",
      "2/3 2020/319/20/OR_ABI-L2-CMIPF-M6C13_G16_s20203192010154_e20203192019473_c20203192019581.nc\n",
      "    ... already downloaded\n",
      "3/3 2020/319/20/OR_ABI-L2-CMIPF-M6C13_G16_s20203192020154_e20203192029473_c20203192029553.nc\n",
      "    ... downloaded succesfully\n",
      "Download finished!\n"
     ]
    }
   ],
   "source": [
    "# Download the selected files\n",
    "downloader.get_files(file_paths=filtered_date_range)\n",
    "print(\"Download finished!\")"
   ]
  },
  {
   "cell_type": "markdown",
   "id": "a0494a28-6d34-4f91-a0a9-68c4cee4ffa6",
   "metadata": {},
   "source": [
    "**NOTA**: Cualquier error lanzará una excepción, consulte la documentación para obtener información detallada sobre la API y su comportamiento."
   ]
  }
 ],
 "metadata": {
  "kernelspec": {
   "display_name": "Python 3 (ipykernel)",
   "language": "python",
   "name": "python3"
  },
  "language_info": {
   "codemirror_mode": {
    "name": "ipython",
    "version": 3
   },
   "file_extension": ".py",
   "mimetype": "text/x-python",
   "name": "python",
   "nbconvert_exporter": "python",
   "pygments_lexer": "ipython3",
   "version": "3.12.6"
  }
 },
 "nbformat": 4,
 "nbformat_minor": 5
}
